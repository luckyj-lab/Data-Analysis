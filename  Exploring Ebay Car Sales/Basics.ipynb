{
 "cells": [
  {
   "cell_type": "markdown",
   "metadata": {
    "collapsed": true
   },
   "source": [
    "## Analysis of Used Car Listings on Ebay\n",
    "\n",
    "In this analysis, we shall be working on used cars listings from ebay Kleinanzeigen a section of the German eBay website.\n",
    "This data set was pulled from Kaggle.com. but some modifications done to it by sampling 50000 rows for faster analysis.\n",
    "\n",
    "The aim of this project is to clean the data and analyze the listings.\n",
    "\n"
   ]
  },
  {
   "cell_type": "code",
   "execution_count": 1,
   "metadata": {
    "collapsed": true
   },
   "outputs": [],
   "source": [
    "#Import libraries needed\n",
    "import numpy as np\n",
    "import pandas as pd"
   ]
  },
  {
   "cell_type": "code",
   "execution_count": 2,
   "metadata": {
    "collapsed": false
   },
   "outputs": [],
   "source": [
    "#read in file\n",
    "autos = pd.read_csv(\"autos.csv\",encoding = \"Latin-1\")"
   ]
  },
  {
   "cell_type": "code",
   "execution_count": 3,
   "metadata": {
    "collapsed": false
   },
   "outputs": [
    {
     "data": {
      "text/html": [
       "<div>\n",
       "<style scoped>\n",
       "    .dataframe tbody tr th:only-of-type {\n",
       "        vertical-align: middle;\n",
       "    }\n",
       "\n",
       "    .dataframe tbody tr th {\n",
       "        vertical-align: top;\n",
       "    }\n",
       "\n",
       "    .dataframe thead th {\n",
       "        text-align: right;\n",
       "    }\n",
       "</style>\n",
       "<table border=\"1\" class=\"dataframe\">\n",
       "  <thead>\n",
       "    <tr style=\"text-align: right;\">\n",
       "      <th></th>\n",
       "      <th>dateCrawled</th>\n",
       "      <th>name</th>\n",
       "      <th>seller</th>\n",
       "      <th>offerType</th>\n",
       "      <th>price</th>\n",
       "      <th>abtest</th>\n",
       "      <th>vehicleType</th>\n",
       "      <th>yearOfRegistration</th>\n",
       "      <th>gearbox</th>\n",
       "      <th>powerPS</th>\n",
       "      <th>model</th>\n",
       "      <th>odometer</th>\n",
       "      <th>monthOfRegistration</th>\n",
       "      <th>fuelType</th>\n",
       "      <th>brand</th>\n",
       "      <th>notRepairedDamage</th>\n",
       "      <th>dateCreated</th>\n",
       "      <th>nrOfPictures</th>\n",
       "      <th>postalCode</th>\n",
       "      <th>lastSeen</th>\n",
       "    </tr>\n",
       "  </thead>\n",
       "  <tbody>\n",
       "    <tr>\n",
       "      <th>0</th>\n",
       "      <td>2016-03-26 17:47:46</td>\n",
       "      <td>Peugeot_807_160_NAVTECH_ON_BOARD</td>\n",
       "      <td>privat</td>\n",
       "      <td>Angebot</td>\n",
       "      <td>$5,000</td>\n",
       "      <td>control</td>\n",
       "      <td>bus</td>\n",
       "      <td>2004</td>\n",
       "      <td>manuell</td>\n",
       "      <td>158</td>\n",
       "      <td>andere</td>\n",
       "      <td>150,000km</td>\n",
       "      <td>3</td>\n",
       "      <td>lpg</td>\n",
       "      <td>peugeot</td>\n",
       "      <td>nein</td>\n",
       "      <td>2016-03-26 00:00:00</td>\n",
       "      <td>0</td>\n",
       "      <td>79588</td>\n",
       "      <td>2016-04-06 06:45:54</td>\n",
       "    </tr>\n",
       "    <tr>\n",
       "      <th>1</th>\n",
       "      <td>2016-04-04 13:38:56</td>\n",
       "      <td>BMW_740i_4_4_Liter_HAMANN_UMBAU_Mega_Optik</td>\n",
       "      <td>privat</td>\n",
       "      <td>Angebot</td>\n",
       "      <td>$8,500</td>\n",
       "      <td>control</td>\n",
       "      <td>limousine</td>\n",
       "      <td>1997</td>\n",
       "      <td>automatik</td>\n",
       "      <td>286</td>\n",
       "      <td>7er</td>\n",
       "      <td>150,000km</td>\n",
       "      <td>6</td>\n",
       "      <td>benzin</td>\n",
       "      <td>bmw</td>\n",
       "      <td>nein</td>\n",
       "      <td>2016-04-04 00:00:00</td>\n",
       "      <td>0</td>\n",
       "      <td>71034</td>\n",
       "      <td>2016-04-06 14:45:08</td>\n",
       "    </tr>\n",
       "    <tr>\n",
       "      <th>2</th>\n",
       "      <td>2016-03-26 18:57:24</td>\n",
       "      <td>Volkswagen_Golf_1.6_United</td>\n",
       "      <td>privat</td>\n",
       "      <td>Angebot</td>\n",
       "      <td>$8,990</td>\n",
       "      <td>test</td>\n",
       "      <td>limousine</td>\n",
       "      <td>2009</td>\n",
       "      <td>manuell</td>\n",
       "      <td>102</td>\n",
       "      <td>golf</td>\n",
       "      <td>70,000km</td>\n",
       "      <td>7</td>\n",
       "      <td>benzin</td>\n",
       "      <td>volkswagen</td>\n",
       "      <td>nein</td>\n",
       "      <td>2016-03-26 00:00:00</td>\n",
       "      <td>0</td>\n",
       "      <td>35394</td>\n",
       "      <td>2016-04-06 20:15:37</td>\n",
       "    </tr>\n",
       "    <tr>\n",
       "      <th>3</th>\n",
       "      <td>2016-03-12 16:58:10</td>\n",
       "      <td>Smart_smart_fortwo_coupe_softouch/F1/Klima/Pan...</td>\n",
       "      <td>privat</td>\n",
       "      <td>Angebot</td>\n",
       "      <td>$4,350</td>\n",
       "      <td>control</td>\n",
       "      <td>kleinwagen</td>\n",
       "      <td>2007</td>\n",
       "      <td>automatik</td>\n",
       "      <td>71</td>\n",
       "      <td>fortwo</td>\n",
       "      <td>70,000km</td>\n",
       "      <td>6</td>\n",
       "      <td>benzin</td>\n",
       "      <td>smart</td>\n",
       "      <td>nein</td>\n",
       "      <td>2016-03-12 00:00:00</td>\n",
       "      <td>0</td>\n",
       "      <td>33729</td>\n",
       "      <td>2016-03-15 03:16:28</td>\n",
       "    </tr>\n",
       "  </tbody>\n",
       "</table>\n",
       "</div>"
      ],
      "text/plain": [
       "           dateCrawled                                               name  \\\n",
       "0  2016-03-26 17:47:46                   Peugeot_807_160_NAVTECH_ON_BOARD   \n",
       "1  2016-04-04 13:38:56         BMW_740i_4_4_Liter_HAMANN_UMBAU_Mega_Optik   \n",
       "2  2016-03-26 18:57:24                         Volkswagen_Golf_1.6_United   \n",
       "3  2016-03-12 16:58:10  Smart_smart_fortwo_coupe_softouch/F1/Klima/Pan...   \n",
       "\n",
       "   seller offerType   price   abtest vehicleType  yearOfRegistration  \\\n",
       "0  privat   Angebot  $5,000  control         bus                2004   \n",
       "1  privat   Angebot  $8,500  control   limousine                1997   \n",
       "2  privat   Angebot  $8,990     test   limousine                2009   \n",
       "3  privat   Angebot  $4,350  control  kleinwagen                2007   \n",
       "\n",
       "     gearbox  powerPS   model   odometer  monthOfRegistration fuelType  \\\n",
       "0    manuell      158  andere  150,000km                    3      lpg   \n",
       "1  automatik      286     7er  150,000km                    6   benzin   \n",
       "2    manuell      102    golf   70,000km                    7   benzin   \n",
       "3  automatik       71  fortwo   70,000km                    6   benzin   \n",
       "\n",
       "        brand notRepairedDamage          dateCreated  nrOfPictures  \\\n",
       "0     peugeot              nein  2016-03-26 00:00:00             0   \n",
       "1         bmw              nein  2016-04-04 00:00:00             0   \n",
       "2  volkswagen              nein  2016-03-26 00:00:00             0   \n",
       "3       smart              nein  2016-03-12 00:00:00             0   \n",
       "\n",
       "   postalCode             lastSeen  \n",
       "0       79588  2016-04-06 06:45:54  \n",
       "1       71034  2016-04-06 14:45:08  \n",
       "2       35394  2016-04-06 20:15:37  \n",
       "3       33729  2016-03-15 03:16:28  "
      ]
     },
     "execution_count": 3,
     "metadata": {},
     "output_type": "execute_result"
    }
   ],
   "source": [
    "#First four observations of data set\n",
    "autos.head(4)"
   ]
  },
  {
   "cell_type": "code",
   "execution_count": 4,
   "metadata": {
    "collapsed": false
   },
   "outputs": [
    {
     "name": "stdout",
     "output_type": "stream",
     "text": [
      "<class 'pandas.core.frame.DataFrame'>\n",
      "RangeIndex: 50000 entries, 0 to 49999\n",
      "Data columns (total 20 columns):\n",
      "dateCrawled            50000 non-null object\n",
      "name                   50000 non-null object\n",
      "seller                 50000 non-null object\n",
      "offerType              50000 non-null object\n",
      "price                  50000 non-null object\n",
      "abtest                 50000 non-null object\n",
      "vehicleType            44905 non-null object\n",
      "yearOfRegistration     50000 non-null int64\n",
      "gearbox                47320 non-null object\n",
      "powerPS                50000 non-null int64\n",
      "model                  47242 non-null object\n",
      "odometer               50000 non-null object\n",
      "monthOfRegistration    50000 non-null int64\n",
      "fuelType               45518 non-null object\n",
      "brand                  50000 non-null object\n",
      "notRepairedDamage      40171 non-null object\n",
      "dateCreated            50000 non-null object\n",
      "nrOfPictures           50000 non-null int64\n",
      "postalCode             50000 non-null int64\n",
      "lastSeen               50000 non-null object\n",
      "dtypes: int64(5), object(15)\n",
      "memory usage: 7.6+ MB\n"
     ]
    }
   ],
   "source": [
    "#Information about autos data set\n",
    "autos.info()"
   ]
  },
  {
   "cell_type": "markdown",
   "metadata": {},
   "source": [
    "## View Column Names and Clean Columns"
   ]
  },
  {
   "cell_type": "code",
   "execution_count": 5,
   "metadata": {
    "collapsed": false
   },
   "outputs": [
    {
     "name": "stdout",
     "output_type": "stream",
     "text": [
      "Index(['dateCrawled', 'name', 'seller', 'offerType', 'price', 'abtest',\n",
      "       'vehicleType', 'yearOfRegistration', 'gearbox', 'powerPS', 'model',\n",
      "       'odometer', 'monthOfRegistration', 'fuelType', 'brand',\n",
      "       'notRepairedDamage', 'dateCreated', 'nrOfPictures', 'postalCode',\n",
      "       'lastSeen'],\n",
      "      dtype='object')\n"
     ]
    }
   ],
   "source": [
    "#View column names\n",
    "all_columns = autos.columns\n",
    "print(all_columns)"
   ]
  },
  {
   "cell_type": "markdown",
   "metadata": {},
   "source": [
    "To clean columns, we shall convert the columns from camelcase to snakecase and change a few wordings to make the columns's describtion more accurate. "
   ]
  },
  {
   "cell_type": "code",
   "execution_count": 6,
   "metadata": {
    "collapsed": true
   },
   "outputs": [],
   "source": [
    "all_columns_new = all_columns "
   ]
  },
  {
   "cell_type": "code",
   "execution_count": 7,
   "metadata": {
    "collapsed": true
   },
   "outputs": [],
   "source": [
    "import re"
   ]
  },
  {
   "cell_type": "code",
   "execution_count": 8,
   "metadata": {
    "collapsed": true
   },
   "outputs": [],
   "source": [
    "def fixing(var):\n",
    "        if var == \"yearOfRegistration\":\n",
    "            var = \"registration_year\"\n",
    "        elif var == \"monthOfRegistration\":\n",
    "            var = \"registration_month\"\n",
    "        elif var == \"notRepairedDamage\":\n",
    "            var = \"unrepaired_damage\"\n",
    "        elif var == \"dateCreated\":\n",
    "            var = \"ad_created\"\n",
    "        else:\n",
    "            s1 = re.sub('(.)([A-Z][a-z]+)', r'\\1_\\2', var)\n",
    "            var = re.sub('([a-z0-9])([A-Z])', r'\\1_\\2', s1).lower()\n",
    "        return var    \n",
    "        "
   ]
  },
  {
   "cell_type": "code",
   "execution_count": 9,
   "metadata": {
    "collapsed": false
   },
   "outputs": [
    {
     "name": "stdout",
     "output_type": "stream",
     "text": [
      "['date_crawled', 'name', 'seller', 'offer_type', 'price', 'abtest', 'vehicle_type', 'registration_year', 'gearbox', 'power_ps', 'model', 'odometer', 'registration_month', 'fuel_type', 'brand', 'unrepaired_damage', 'ad_created', 'nr_of_pictures', 'postal_code', 'last_seen']\n"
     ]
    }
   ],
   "source": [
    "all_new_columns_2 = []\n",
    "for i in all_columns_new:\n",
    "    value = fixing(i)\n",
    "    all_new_columns_2.append(value)\n",
    "    \n",
    "print(all_new_columns_2)    "
   ]
  },
  {
   "cell_type": "code",
   "execution_count": 10,
   "metadata": {
    "collapsed": true
   },
   "outputs": [],
   "source": [
    "autos.columns = all_new_columns_2"
   ]
  },
  {
   "cell_type": "code",
   "execution_count": 11,
   "metadata": {
    "collapsed": false
   },
   "outputs": [
    {
     "data": {
      "text/html": [
       "<div>\n",
       "<style scoped>\n",
       "    .dataframe tbody tr th:only-of-type {\n",
       "        vertical-align: middle;\n",
       "    }\n",
       "\n",
       "    .dataframe tbody tr th {\n",
       "        vertical-align: top;\n",
       "    }\n",
       "\n",
       "    .dataframe thead th {\n",
       "        text-align: right;\n",
       "    }\n",
       "</style>\n",
       "<table border=\"1\" class=\"dataframe\">\n",
       "  <thead>\n",
       "    <tr style=\"text-align: right;\">\n",
       "      <th></th>\n",
       "      <th>date_crawled</th>\n",
       "      <th>name</th>\n",
       "      <th>seller</th>\n",
       "      <th>offer_type</th>\n",
       "      <th>price</th>\n",
       "      <th>abtest</th>\n",
       "      <th>vehicle_type</th>\n",
       "      <th>registration_year</th>\n",
       "      <th>gearbox</th>\n",
       "      <th>power_ps</th>\n",
       "      <th>model</th>\n",
       "      <th>odometer</th>\n",
       "      <th>registration_month</th>\n",
       "      <th>fuel_type</th>\n",
       "      <th>brand</th>\n",
       "      <th>unrepaired_damage</th>\n",
       "      <th>ad_created</th>\n",
       "      <th>nr_of_pictures</th>\n",
       "      <th>postal_code</th>\n",
       "      <th>last_seen</th>\n",
       "    </tr>\n",
       "  </thead>\n",
       "  <tbody>\n",
       "    <tr>\n",
       "      <th>0</th>\n",
       "      <td>2016-03-26 17:47:46</td>\n",
       "      <td>Peugeot_807_160_NAVTECH_ON_BOARD</td>\n",
       "      <td>privat</td>\n",
       "      <td>Angebot</td>\n",
       "      <td>$5,000</td>\n",
       "      <td>control</td>\n",
       "      <td>bus</td>\n",
       "      <td>2004</td>\n",
       "      <td>manuell</td>\n",
       "      <td>158</td>\n",
       "      <td>andere</td>\n",
       "      <td>150,000km</td>\n",
       "      <td>3</td>\n",
       "      <td>lpg</td>\n",
       "      <td>peugeot</td>\n",
       "      <td>nein</td>\n",
       "      <td>2016-03-26 00:00:00</td>\n",
       "      <td>0</td>\n",
       "      <td>79588</td>\n",
       "      <td>2016-04-06 06:45:54</td>\n",
       "    </tr>\n",
       "    <tr>\n",
       "      <th>1</th>\n",
       "      <td>2016-04-04 13:38:56</td>\n",
       "      <td>BMW_740i_4_4_Liter_HAMANN_UMBAU_Mega_Optik</td>\n",
       "      <td>privat</td>\n",
       "      <td>Angebot</td>\n",
       "      <td>$8,500</td>\n",
       "      <td>control</td>\n",
       "      <td>limousine</td>\n",
       "      <td>1997</td>\n",
       "      <td>automatik</td>\n",
       "      <td>286</td>\n",
       "      <td>7er</td>\n",
       "      <td>150,000km</td>\n",
       "      <td>6</td>\n",
       "      <td>benzin</td>\n",
       "      <td>bmw</td>\n",
       "      <td>nein</td>\n",
       "      <td>2016-04-04 00:00:00</td>\n",
       "      <td>0</td>\n",
       "      <td>71034</td>\n",
       "      <td>2016-04-06 14:45:08</td>\n",
       "    </tr>\n",
       "    <tr>\n",
       "      <th>2</th>\n",
       "      <td>2016-03-26 18:57:24</td>\n",
       "      <td>Volkswagen_Golf_1.6_United</td>\n",
       "      <td>privat</td>\n",
       "      <td>Angebot</td>\n",
       "      <td>$8,990</td>\n",
       "      <td>test</td>\n",
       "      <td>limousine</td>\n",
       "      <td>2009</td>\n",
       "      <td>manuell</td>\n",
       "      <td>102</td>\n",
       "      <td>golf</td>\n",
       "      <td>70,000km</td>\n",
       "      <td>7</td>\n",
       "      <td>benzin</td>\n",
       "      <td>volkswagen</td>\n",
       "      <td>nein</td>\n",
       "      <td>2016-03-26 00:00:00</td>\n",
       "      <td>0</td>\n",
       "      <td>35394</td>\n",
       "      <td>2016-04-06 20:15:37</td>\n",
       "    </tr>\n",
       "  </tbody>\n",
       "</table>\n",
       "</div>"
      ],
      "text/plain": [
       "          date_crawled                                        name  seller  \\\n",
       "0  2016-03-26 17:47:46            Peugeot_807_160_NAVTECH_ON_BOARD  privat   \n",
       "1  2016-04-04 13:38:56  BMW_740i_4_4_Liter_HAMANN_UMBAU_Mega_Optik  privat   \n",
       "2  2016-03-26 18:57:24                  Volkswagen_Golf_1.6_United  privat   \n",
       "\n",
       "  offer_type   price   abtest vehicle_type  registration_year    gearbox  \\\n",
       "0    Angebot  $5,000  control          bus               2004    manuell   \n",
       "1    Angebot  $8,500  control    limousine               1997  automatik   \n",
       "2    Angebot  $8,990     test    limousine               2009    manuell   \n",
       "\n",
       "   power_ps   model   odometer  registration_month fuel_type       brand  \\\n",
       "0       158  andere  150,000km                   3       lpg     peugeot   \n",
       "1       286     7er  150,000km                   6    benzin         bmw   \n",
       "2       102    golf   70,000km                   7    benzin  volkswagen   \n",
       "\n",
       "  unrepaired_damage           ad_created  nr_of_pictures  postal_code  \\\n",
       "0              nein  2016-03-26 00:00:00               0        79588   \n",
       "1              nein  2016-04-04 00:00:00               0        71034   \n",
       "2              nein  2016-03-26 00:00:00               0        35394   \n",
       "\n",
       "             last_seen  \n",
       "0  2016-04-06 06:45:54  \n",
       "1  2016-04-06 14:45:08  \n",
       "2  2016-04-06 20:15:37  "
      ]
     },
     "execution_count": 11,
     "metadata": {},
     "output_type": "execute_result"
    }
   ],
   "source": [
    "autos.head(3)"
   ]
  },
  {
   "cell_type": "markdown",
   "metadata": {},
   "source": [
    "## Exploratory Data Analysis \n",
    "Here we inspect columns to check anyones that need cleaning. "
   ]
  },
  {
   "cell_type": "code",
   "execution_count": 12,
   "metadata": {
    "collapsed": false
   },
   "outputs": [
    {
     "data": {
      "text/html": [
       "<div>\n",
       "<style scoped>\n",
       "    .dataframe tbody tr th:only-of-type {\n",
       "        vertical-align: middle;\n",
       "    }\n",
       "\n",
       "    .dataframe tbody tr th {\n",
       "        vertical-align: top;\n",
       "    }\n",
       "\n",
       "    .dataframe thead th {\n",
       "        text-align: right;\n",
       "    }\n",
       "</style>\n",
       "<table border=\"1\" class=\"dataframe\">\n",
       "  <thead>\n",
       "    <tr style=\"text-align: right;\">\n",
       "      <th></th>\n",
       "      <th>date_crawled</th>\n",
       "      <th>name</th>\n",
       "      <th>seller</th>\n",
       "      <th>offer_type</th>\n",
       "      <th>price</th>\n",
       "      <th>abtest</th>\n",
       "      <th>vehicle_type</th>\n",
       "      <th>registration_year</th>\n",
       "      <th>gearbox</th>\n",
       "      <th>power_ps</th>\n",
       "      <th>model</th>\n",
       "      <th>odometer</th>\n",
       "      <th>registration_month</th>\n",
       "      <th>fuel_type</th>\n",
       "      <th>brand</th>\n",
       "      <th>unrepaired_damage</th>\n",
       "      <th>ad_created</th>\n",
       "      <th>nr_of_pictures</th>\n",
       "      <th>postal_code</th>\n",
       "      <th>last_seen</th>\n",
       "    </tr>\n",
       "  </thead>\n",
       "  <tbody>\n",
       "    <tr>\n",
       "      <th>count</th>\n",
       "      <td>50000</td>\n",
       "      <td>50000</td>\n",
       "      <td>50000</td>\n",
       "      <td>50000</td>\n",
       "      <td>50000</td>\n",
       "      <td>50000</td>\n",
       "      <td>44905</td>\n",
       "      <td>50000.000000</td>\n",
       "      <td>47320</td>\n",
       "      <td>50000.000000</td>\n",
       "      <td>47242</td>\n",
       "      <td>50000</td>\n",
       "      <td>50000.000000</td>\n",
       "      <td>45518</td>\n",
       "      <td>50000</td>\n",
       "      <td>40171</td>\n",
       "      <td>50000</td>\n",
       "      <td>50000.0</td>\n",
       "      <td>50000.000000</td>\n",
       "      <td>50000</td>\n",
       "    </tr>\n",
       "    <tr>\n",
       "      <th>unique</th>\n",
       "      <td>48213</td>\n",
       "      <td>38754</td>\n",
       "      <td>2</td>\n",
       "      <td>2</td>\n",
       "      <td>2357</td>\n",
       "      <td>2</td>\n",
       "      <td>8</td>\n",
       "      <td>NaN</td>\n",
       "      <td>2</td>\n",
       "      <td>NaN</td>\n",
       "      <td>245</td>\n",
       "      <td>13</td>\n",
       "      <td>NaN</td>\n",
       "      <td>7</td>\n",
       "      <td>40</td>\n",
       "      <td>2</td>\n",
       "      <td>76</td>\n",
       "      <td>NaN</td>\n",
       "      <td>NaN</td>\n",
       "      <td>39481</td>\n",
       "    </tr>\n",
       "    <tr>\n",
       "      <th>top</th>\n",
       "      <td>2016-03-19 17:36:18</td>\n",
       "      <td>Ford_Fiesta</td>\n",
       "      <td>privat</td>\n",
       "      <td>Angebot</td>\n",
       "      <td>$0</td>\n",
       "      <td>test</td>\n",
       "      <td>limousine</td>\n",
       "      <td>NaN</td>\n",
       "      <td>manuell</td>\n",
       "      <td>NaN</td>\n",
       "      <td>golf</td>\n",
       "      <td>150,000km</td>\n",
       "      <td>NaN</td>\n",
       "      <td>benzin</td>\n",
       "      <td>volkswagen</td>\n",
       "      <td>nein</td>\n",
       "      <td>2016-04-03 00:00:00</td>\n",
       "      <td>NaN</td>\n",
       "      <td>NaN</td>\n",
       "      <td>2016-04-07 06:17:27</td>\n",
       "    </tr>\n",
       "    <tr>\n",
       "      <th>freq</th>\n",
       "      <td>3</td>\n",
       "      <td>78</td>\n",
       "      <td>49999</td>\n",
       "      <td>49999</td>\n",
       "      <td>1421</td>\n",
       "      <td>25756</td>\n",
       "      <td>12859</td>\n",
       "      <td>NaN</td>\n",
       "      <td>36993</td>\n",
       "      <td>NaN</td>\n",
       "      <td>4024</td>\n",
       "      <td>32424</td>\n",
       "      <td>NaN</td>\n",
       "      <td>30107</td>\n",
       "      <td>10687</td>\n",
       "      <td>35232</td>\n",
       "      <td>1946</td>\n",
       "      <td>NaN</td>\n",
       "      <td>NaN</td>\n",
       "      <td>8</td>\n",
       "    </tr>\n",
       "    <tr>\n",
       "      <th>mean</th>\n",
       "      <td>NaN</td>\n",
       "      <td>NaN</td>\n",
       "      <td>NaN</td>\n",
       "      <td>NaN</td>\n",
       "      <td>NaN</td>\n",
       "      <td>NaN</td>\n",
       "      <td>NaN</td>\n",
       "      <td>2005.073280</td>\n",
       "      <td>NaN</td>\n",
       "      <td>116.355920</td>\n",
       "      <td>NaN</td>\n",
       "      <td>NaN</td>\n",
       "      <td>5.723360</td>\n",
       "      <td>NaN</td>\n",
       "      <td>NaN</td>\n",
       "      <td>NaN</td>\n",
       "      <td>NaN</td>\n",
       "      <td>0.0</td>\n",
       "      <td>50813.627300</td>\n",
       "      <td>NaN</td>\n",
       "    </tr>\n",
       "    <tr>\n",
       "      <th>std</th>\n",
       "      <td>NaN</td>\n",
       "      <td>NaN</td>\n",
       "      <td>NaN</td>\n",
       "      <td>NaN</td>\n",
       "      <td>NaN</td>\n",
       "      <td>NaN</td>\n",
       "      <td>NaN</td>\n",
       "      <td>105.712813</td>\n",
       "      <td>NaN</td>\n",
       "      <td>209.216627</td>\n",
       "      <td>NaN</td>\n",
       "      <td>NaN</td>\n",
       "      <td>3.711984</td>\n",
       "      <td>NaN</td>\n",
       "      <td>NaN</td>\n",
       "      <td>NaN</td>\n",
       "      <td>NaN</td>\n",
       "      <td>0.0</td>\n",
       "      <td>25779.747957</td>\n",
       "      <td>NaN</td>\n",
       "    </tr>\n",
       "    <tr>\n",
       "      <th>min</th>\n",
       "      <td>NaN</td>\n",
       "      <td>NaN</td>\n",
       "      <td>NaN</td>\n",
       "      <td>NaN</td>\n",
       "      <td>NaN</td>\n",
       "      <td>NaN</td>\n",
       "      <td>NaN</td>\n",
       "      <td>1000.000000</td>\n",
       "      <td>NaN</td>\n",
       "      <td>0.000000</td>\n",
       "      <td>NaN</td>\n",
       "      <td>NaN</td>\n",
       "      <td>0.000000</td>\n",
       "      <td>NaN</td>\n",
       "      <td>NaN</td>\n",
       "      <td>NaN</td>\n",
       "      <td>NaN</td>\n",
       "      <td>0.0</td>\n",
       "      <td>1067.000000</td>\n",
       "      <td>NaN</td>\n",
       "    </tr>\n",
       "    <tr>\n",
       "      <th>25%</th>\n",
       "      <td>NaN</td>\n",
       "      <td>NaN</td>\n",
       "      <td>NaN</td>\n",
       "      <td>NaN</td>\n",
       "      <td>NaN</td>\n",
       "      <td>NaN</td>\n",
       "      <td>NaN</td>\n",
       "      <td>1999.000000</td>\n",
       "      <td>NaN</td>\n",
       "      <td>70.000000</td>\n",
       "      <td>NaN</td>\n",
       "      <td>NaN</td>\n",
       "      <td>3.000000</td>\n",
       "      <td>NaN</td>\n",
       "      <td>NaN</td>\n",
       "      <td>NaN</td>\n",
       "      <td>NaN</td>\n",
       "      <td>0.0</td>\n",
       "      <td>30451.000000</td>\n",
       "      <td>NaN</td>\n",
       "    </tr>\n",
       "    <tr>\n",
       "      <th>50%</th>\n",
       "      <td>NaN</td>\n",
       "      <td>NaN</td>\n",
       "      <td>NaN</td>\n",
       "      <td>NaN</td>\n",
       "      <td>NaN</td>\n",
       "      <td>NaN</td>\n",
       "      <td>NaN</td>\n",
       "      <td>2003.000000</td>\n",
       "      <td>NaN</td>\n",
       "      <td>105.000000</td>\n",
       "      <td>NaN</td>\n",
       "      <td>NaN</td>\n",
       "      <td>6.000000</td>\n",
       "      <td>NaN</td>\n",
       "      <td>NaN</td>\n",
       "      <td>NaN</td>\n",
       "      <td>NaN</td>\n",
       "      <td>0.0</td>\n",
       "      <td>49577.000000</td>\n",
       "      <td>NaN</td>\n",
       "    </tr>\n",
       "    <tr>\n",
       "      <th>75%</th>\n",
       "      <td>NaN</td>\n",
       "      <td>NaN</td>\n",
       "      <td>NaN</td>\n",
       "      <td>NaN</td>\n",
       "      <td>NaN</td>\n",
       "      <td>NaN</td>\n",
       "      <td>NaN</td>\n",
       "      <td>2008.000000</td>\n",
       "      <td>NaN</td>\n",
       "      <td>150.000000</td>\n",
       "      <td>NaN</td>\n",
       "      <td>NaN</td>\n",
       "      <td>9.000000</td>\n",
       "      <td>NaN</td>\n",
       "      <td>NaN</td>\n",
       "      <td>NaN</td>\n",
       "      <td>NaN</td>\n",
       "      <td>0.0</td>\n",
       "      <td>71540.000000</td>\n",
       "      <td>NaN</td>\n",
       "    </tr>\n",
       "    <tr>\n",
       "      <th>max</th>\n",
       "      <td>NaN</td>\n",
       "      <td>NaN</td>\n",
       "      <td>NaN</td>\n",
       "      <td>NaN</td>\n",
       "      <td>NaN</td>\n",
       "      <td>NaN</td>\n",
       "      <td>NaN</td>\n",
       "      <td>9999.000000</td>\n",
       "      <td>NaN</td>\n",
       "      <td>17700.000000</td>\n",
       "      <td>NaN</td>\n",
       "      <td>NaN</td>\n",
       "      <td>12.000000</td>\n",
       "      <td>NaN</td>\n",
       "      <td>NaN</td>\n",
       "      <td>NaN</td>\n",
       "      <td>NaN</td>\n",
       "      <td>0.0</td>\n",
       "      <td>99998.000000</td>\n",
       "      <td>NaN</td>\n",
       "    </tr>\n",
       "  </tbody>\n",
       "</table>\n",
       "</div>"
      ],
      "text/plain": [
       "               date_crawled         name  seller offer_type  price abtest  \\\n",
       "count                 50000        50000   50000      50000  50000  50000   \n",
       "unique                48213        38754       2          2   2357      2   \n",
       "top     2016-03-19 17:36:18  Ford_Fiesta  privat    Angebot     $0   test   \n",
       "freq                      3           78   49999      49999   1421  25756   \n",
       "mean                    NaN          NaN     NaN        NaN    NaN    NaN   \n",
       "std                     NaN          NaN     NaN        NaN    NaN    NaN   \n",
       "min                     NaN          NaN     NaN        NaN    NaN    NaN   \n",
       "25%                     NaN          NaN     NaN        NaN    NaN    NaN   \n",
       "50%                     NaN          NaN     NaN        NaN    NaN    NaN   \n",
       "75%                     NaN          NaN     NaN        NaN    NaN    NaN   \n",
       "max                     NaN          NaN     NaN        NaN    NaN    NaN   \n",
       "\n",
       "       vehicle_type  registration_year  gearbox      power_ps  model  \\\n",
       "count         44905       50000.000000    47320  50000.000000  47242   \n",
       "unique            8                NaN        2           NaN    245   \n",
       "top       limousine                NaN  manuell           NaN   golf   \n",
       "freq          12859                NaN    36993           NaN   4024   \n",
       "mean            NaN        2005.073280      NaN    116.355920    NaN   \n",
       "std             NaN         105.712813      NaN    209.216627    NaN   \n",
       "min             NaN        1000.000000      NaN      0.000000    NaN   \n",
       "25%             NaN        1999.000000      NaN     70.000000    NaN   \n",
       "50%             NaN        2003.000000      NaN    105.000000    NaN   \n",
       "75%             NaN        2008.000000      NaN    150.000000    NaN   \n",
       "max             NaN        9999.000000      NaN  17700.000000    NaN   \n",
       "\n",
       "         odometer  registration_month fuel_type       brand unrepaired_damage  \\\n",
       "count       50000        50000.000000     45518       50000             40171   \n",
       "unique         13                 NaN         7          40                 2   \n",
       "top     150,000km                 NaN    benzin  volkswagen              nein   \n",
       "freq        32424                 NaN     30107       10687             35232   \n",
       "mean          NaN            5.723360       NaN         NaN               NaN   \n",
       "std           NaN            3.711984       NaN         NaN               NaN   \n",
       "min           NaN            0.000000       NaN         NaN               NaN   \n",
       "25%           NaN            3.000000       NaN         NaN               NaN   \n",
       "50%           NaN            6.000000       NaN         NaN               NaN   \n",
       "75%           NaN            9.000000       NaN         NaN               NaN   \n",
       "max           NaN           12.000000       NaN         NaN               NaN   \n",
       "\n",
       "                 ad_created  nr_of_pictures   postal_code            last_seen  \n",
       "count                 50000         50000.0  50000.000000                50000  \n",
       "unique                   76             NaN           NaN                39481  \n",
       "top     2016-04-03 00:00:00             NaN           NaN  2016-04-07 06:17:27  \n",
       "freq                   1946             NaN           NaN                    8  \n",
       "mean                    NaN             0.0  50813.627300                  NaN  \n",
       "std                     NaN             0.0  25779.747957                  NaN  \n",
       "min                     NaN             0.0   1067.000000                  NaN  \n",
       "25%                     NaN             0.0  30451.000000                  NaN  \n",
       "50%                     NaN             0.0  49577.000000                  NaN  \n",
       "75%                     NaN             0.0  71540.000000                  NaN  \n",
       "max                     NaN             0.0  99998.000000                  NaN  "
      ]
     },
     "execution_count": 12,
     "metadata": {},
     "output_type": "execute_result"
    }
   ],
   "source": [
    "autos.describe(include = \"all\")"
   ]
  },
  {
   "cell_type": "markdown",
   "metadata": {},
   "source": [
    "The following columns need a closer attention\n",
    "- We need to convert the date_crawled column to a date\n",
    "- The name column contains missing value \n",
    "- Seller column will be dropped because it contains just two values\n",
    "- Offer_type column contains just 2 values and will be dropped\n",
    "- Price column needs to be converted to numeric\n",
    "- Abtest will be dropped\n",
    "- Vehicle_type has missing data\n",
    "- Registration year has inconsistent data, so will be dropped\n",
    "- Odometer should be transformed to numeric value\n",
    "- Fuel type contains 7 unique values we need to inspect that\n",
    "- Unrepaired damage will be dropped\n",
    "- nr_of_pics should be converted to numeric\n",
    "- postal code we need to closer look at the distribution\n",
    "- last seen will be dropped\n"
   ]
  },
  {
   "cell_type": "markdown",
   "metadata": {},
   "source": [
    "## Explore Odometer and Price Column"
   ]
  },
  {
   "cell_type": "code",
   "execution_count": 13,
   "metadata": {
    "collapsed": false
   },
   "outputs": [
    {
     "data": {
      "text/plain": [
       "$0         1421\n",
       "$500        781\n",
       "$1,500      734\n",
       "$2,500      643\n",
       "$1,200      639\n",
       "$1,000      639\n",
       "$600        531\n",
       "$3,500      498\n",
       "$800        498\n",
       "$2,000      460\n",
       "$999        434\n",
       "$750        433\n",
       "$900        420\n",
       "$650        419\n",
       "$850        410\n",
       "$700        395\n",
       "$4,500      394\n",
       "$300        384\n",
       "$2,200      382\n",
       "$950        379\n",
       "$1,100      376\n",
       "$1,300      371\n",
       "$3,000      365\n",
       "$550        356\n",
       "$1,800      355\n",
       "$5,500      340\n",
       "$1,250      335\n",
       "$350        335\n",
       "$1,600      327\n",
       "$1,999      322\n",
       "           ... \n",
       "$13,049       1\n",
       "$12,889       1\n",
       "$4,485        1\n",
       "$11,448       1\n",
       "$6,998        1\n",
       "$33,777       1\n",
       "$2,410        1\n",
       "$5,634        1\n",
       "$7,930        1\n",
       "$34,980       1\n",
       "$2,245        1\n",
       "$3,725        1\n",
       "$1,169        1\n",
       "$10,488       1\n",
       "$10,090       1\n",
       "$135          1\n",
       "$21,690       1\n",
       "$23,450       1\n",
       "$295          1\n",
       "$1,039        1\n",
       "$1,645        1\n",
       "$9,325        1\n",
       "$1,765        1\n",
       "$4,567        1\n",
       "$14,525       1\n",
       "$70,000       1\n",
       "$17,799       1\n",
       "$789          1\n",
       "$24,242       1\n",
       "$14,337       1\n",
       "Name: price, Length: 2357, dtype: int64"
      ]
     },
     "execution_count": 13,
     "metadata": {},
     "output_type": "execute_result"
    }
   ],
   "source": [
    "#Inspect price column \n",
    "autos[\"price\"].value_counts()\n"
   ]
  },
  {
   "cell_type": "markdown",
   "metadata": {},
   "source": [
    "Again, the prices in this column seem rounded, however given there are 2357 unique values in the column, that may just be people's tendency to round prices on the site.\n",
    "\n",
    "There are 1,421 cars listed with $0 price - given that this is only 2% of the of the cars, we might consider removing these rows."
   ]
  },
  {
   "cell_type": "code",
   "execution_count": 14,
   "metadata": {
    "collapsed": false
   },
   "outputs": [
    {
     "data": {
      "text/plain": [
       "150,000km    32424\n",
       "125,000km     5170\n",
       "100,000km     2169\n",
       "90,000km      1757\n",
       "80,000km      1436\n",
       "70,000km      1230\n",
       "60,000km      1164\n",
       "50,000km      1027\n",
       "5,000km        967\n",
       "40,000km       819\n",
       "30,000km       789\n",
       "20,000km       784\n",
       "10,000km       264\n",
       "Name: odometer, dtype: int64"
      ]
     },
     "execution_count": 14,
     "metadata": {},
     "output_type": "execute_result"
    }
   ],
   "source": [
    "#Inspect odometer column closer\n",
    "autos[\"odometer\"].value_counts()"
   ]
  },
  {
   "cell_type": "markdown",
   "metadata": {},
   "source": [
    "We can see that the values in this field are rounded, which might indicate that sellers had to choose from pre-set options for this field. Additionally, there are more high mileage than low mileage vehicles."
   ]
  },
  {
   "cell_type": "code",
   "execution_count": 15,
   "metadata": {
    "collapsed": true
   },
   "outputs": [],
   "source": [
    "#Remove non-digit special chracters\n",
    "autos[\"price\"] = autos[\"price\"].str.replace(\"$\",\" \")"
   ]
  },
  {
   "cell_type": "code",
   "execution_count": 16,
   "metadata": {
    "collapsed": false
   },
   "outputs": [],
   "source": [
    "#Remove non-digit and special chararcter from odometer\n",
    "autos[\"odometer\"] = autos[\"odometer\"].str.replace(\"km\",\" \")"
   ]
  },
  {
   "cell_type": "code",
   "execution_count": 17,
   "metadata": {
    "collapsed": true
   },
   "outputs": [],
   "source": [
    "#Rename odometer column\n",
    "autos.rename({\"odometer\":\"odometer_km\"},axis = 1,inplace = True)"
   ]
  },
  {
   "cell_type": "code",
   "execution_count": 18,
   "metadata": {
    "collapsed": false
   },
   "outputs": [
    {
     "data": {
      "text/plain": [
       "Index(['date_crawled', 'name', 'seller', 'offer_type', 'price', 'abtest',\n",
       "       'vehicle_type', 'registration_year', 'gearbox', 'power_ps', 'model',\n",
       "       'odometer_km', 'registration_month', 'fuel_type', 'brand',\n",
       "       'unrepaired_damage', 'ad_created', 'nr_of_pictures', 'postal_code',\n",
       "       'last_seen'],\n",
       "      dtype='object')"
      ]
     },
     "execution_count": 18,
     "metadata": {},
     "output_type": "execute_result"
    }
   ],
   "source": [
    "#View of new column names\n",
    "autos.columns"
   ]
  },
  {
   "cell_type": "code",
   "execution_count": 19,
   "metadata": {
    "collapsed": false
   },
   "outputs": [],
   "source": [
    "#Cleaned the price and odometer columns\n",
    "autos[\"price\"] = autos['price'].str.replace('$','').str.replace(',','').astype(int)\n",
    "autos[\"odometer_km\"] = autos['odometer_km'].str.replace(',','').str.replace('km','').astype(int)"
   ]
  },
  {
   "cell_type": "code",
   "execution_count": 20,
   "metadata": {
    "collapsed": false
   },
   "outputs": [
    {
     "name": "stdout",
     "output_type": "stream",
     "text": [
      "int64\n",
      "int64\n"
     ]
    }
   ],
   "source": [
    "#Lets view the data types in both columns to affirm conversion\n",
    "print(autos[\"price\"].dtype)\n",
    "print(autos[\"odometer_km\"].dtype)"
   ]
  },
  {
   "cell_type": "code",
   "execution_count": 21,
   "metadata": {
    "collapsed": false
   },
   "outputs": [
    {
     "name": "stdout",
     "output_type": "stream",
     "text": [
      "Unique prices are =  (2357,)\n",
      "Unique odometers are =  (13,)\n"
     ]
    }
   ],
   "source": [
    "#Lets check on how many unique values are in columns odometer_km and price\n",
    "print(\"Unique prices are = \", autos[\"price\"].unique().shape)\n",
    "print(\"Unique odometers are = \", autos[\"odometer_km\"].unique().shape)"
   ]
  },
  {
   "cell_type": "code",
   "execution_count": 22,
   "metadata": {
    "collapsed": false
   },
   "outputs": [
    {
     "name": "stdout",
     "output_type": "stream",
     "text": [
      "count    5.000000e+04\n",
      "mean     9.840044e+03\n",
      "std      4.811044e+05\n",
      "min      0.000000e+00\n",
      "25%      1.100000e+03\n",
      "50%      2.950000e+03\n",
      "75%      7.200000e+03\n",
      "max      1.000000e+08\n",
      "Name: price, dtype: float64\n"
     ]
    }
   ],
   "source": [
    "#Distribution of price columns\n",
    "print(autos[\"price\"].describe())"
   ]
  },
  {
   "cell_type": "code",
   "execution_count": 23,
   "metadata": {
    "collapsed": false
   },
   "outputs": [
    {
     "name": "stdout",
     "output_type": "stream",
     "text": [
      "count     50000.000000\n",
      "mean     125732.700000\n",
      "std       40042.211706\n",
      "min        5000.000000\n",
      "25%      125000.000000\n",
      "50%      150000.000000\n",
      "75%      150000.000000\n",
      "max      150000.000000\n",
      "Name: odometer_km, dtype: float64\n"
     ]
    }
   ],
   "source": [
    "#Distribution of odometer columns\n",
    "print(autos[\"odometer_km\"].describe())"
   ]
  },
  {
   "cell_type": "code",
   "execution_count": 24,
   "metadata": {
    "collapsed": false
   },
   "outputs": [
    {
     "name": "stdout",
     "output_type": "stream",
     "text": [
      "3500     498\n",
      "2500     643\n",
      "2000     460\n",
      "1500     734\n",
      "1200     639\n",
      "1000     639\n",
      "800      498\n",
      "600      531\n",
      "500      781\n",
      "0       1421\n",
      "Name: price, dtype: int64\n"
     ]
    }
   ],
   "source": [
    "#Let us view counts of values for price column \n",
    "print(autos[\"price\"].value_counts().head(10).sort_index(ascending = False))"
   ]
  },
  {
   "cell_type": "code",
   "execution_count": 25,
   "metadata": {
    "collapsed": false,
    "scrolled": true
   },
   "outputs": [
    {
     "name": "stdout",
     "output_type": "stream",
     "text": [
      "150000    32424\n",
      "125000     5170\n",
      "100000     2169\n",
      "90000      1757\n",
      "80000      1436\n",
      "70000      1230\n",
      "60000      1164\n",
      "50000      1027\n",
      "40000       819\n",
      "30000       789\n",
      "20000       784\n",
      "10000       264\n",
      "5000        967\n",
      "Name: odometer_km, dtype: int64\n"
     ]
    }
   ],
   "source": [
    "#Let us view counts of values for odometer column \n",
    "print(autos[\"odometer_km\"].value_counts().head(20).sort_index(ascending = False))"
   ]
  },
  {
   "cell_type": "code",
   "execution_count": 26,
   "metadata": {
    "collapsed": true
   },
   "outputs": [],
   "source": [
    "#Lets calculate interquantile range\n",
    "IQR_price = 720000 - 1100\n",
    "IQR_odometer = 150000 - 125000"
   ]
  },
  {
   "cell_type": "code",
   "execution_count": 27,
   "metadata": {
    "collapsed": false
   },
   "outputs": [],
   "source": [
    "#Calculate upper and lower bound for price and odometer\n",
    "lower_bound_price = 1100 - (1.5 * IQR_price)\n",
    "upper_bound_price = 720000 + (1.5 * IQR_price)\n",
    "\n",
    "lower_bound_odometer = 125000 - (1.5 * IQR_odometer)\n",
    "upper_bound_odometer = 150000 + (1.5 * IQR_odometer)"
   ]
  },
  {
   "cell_type": "code",
   "execution_count": 28,
   "metadata": {
    "collapsed": false
   },
   "outputs": [
    {
     "name": "stdout",
     "output_type": "stream",
     "text": [
      "-1077250.0 1798350.0\n",
      "87500.0 187500.0\n"
     ]
    }
   ],
   "source": [
    "print(lower_bound_price,upper_bound_price)\n",
    "print(lower_bound_odometer, upper_bound_odometer)"
   ]
  },
  {
   "cell_type": "markdown",
   "metadata": {},
   "source": [
    "Values to be considered for upper and lower bounds \n",
    "For prices, because the lower bound falls below the lowest value, we shall consider the\n",
    "lowest value and upper bound which is 0 and 1,798,350\n"
   ]
  },
  {
   "cell_type": "code",
   "execution_count": 29,
   "metadata": {
    "collapsed": false
   },
   "outputs": [],
   "source": [
    "autos = autos.loc[autos[\"price\"].between(0,1798350),:]"
   ]
  },
  {
   "cell_type": "markdown",
   "metadata": {},
   "source": [
    "What values do we consider for upper and lower bound?\n",
    "The lower bound will be 87500 and the upper bound will be 150000, this is because the upper limit lies above the max value."
   ]
  },
  {
   "cell_type": "code",
   "execution_count": 30,
   "metadata": {
    "collapsed": true
   },
   "outputs": [],
   "source": [
    "autos = autos.loc[autos[\"odometer_km\"].between(87500,150000),:]"
   ]
  },
  {
   "cell_type": "code",
   "execution_count": 31,
   "metadata": {
    "collapsed": false
   },
   "outputs": [
    {
     "name": "stdout",
     "output_type": "stream",
     "text": [
      "              price  registration_year      power_ps    odometer_km  \\\n",
      "count  4.151400e+04       41514.000000  41514.000000   41514.000000   \n",
      "mean   4.428849e+03        2002.820759    114.485667  141736.040854   \n",
      "std    1.192271e+04          35.025253    192.731571   17101.772907   \n",
      "min    0.000000e+00        1910.000000      0.000000   90000.000000   \n",
      "25%    9.990000e+02        1999.000000     70.000000  150000.000000   \n",
      "50%    2.450000e+03        2003.000000    105.000000  150000.000000   \n",
      "75%    5.500000e+03        2007.000000    147.000000  150000.000000   \n",
      "max    1.234566e+06        9000.000000  17700.000000  150000.000000   \n",
      "\n",
      "       registration_month  nr_of_pictures   postal_code  \n",
      "count        41514.000000         41514.0  41514.000000  \n",
      "mean             5.718384             0.0  50591.217276  \n",
      "std              3.731841             0.0  25620.497673  \n",
      "min              0.000000             0.0   1067.000000  \n",
      "25%              3.000000             0.0  30179.000000  \n",
      "50%              6.000000             0.0  49328.000000  \n",
      "75%              9.000000             0.0  71083.000000  \n",
      "max             12.000000             0.0  99998.000000  \n"
     ]
    }
   ],
   "source": [
    "print(autos.describe())"
   ]
  },
  {
   "cell_type": "markdown",
   "metadata": {},
   "source": [
    "## Exploring Date columns\n",
    "There are a number of columns with date information:\n",
    "\n",
    "- date_crawled\n",
    "- registration_month\n",
    "- registration_year\n",
    "- ad_created\n",
    "- last_seen\n",
    "\n",
    "These are a combination of dates that were crawled, and dates with meta-information from the crawler. The non-registration dates are stored as strings.\n",
    "\n",
    "We'll explore each of these columns to learn more about the listings."
   ]
  },
  {
   "cell_type": "code",
   "execution_count": 32,
   "metadata": {
    "collapsed": false
   },
   "outputs": [
    {
     "name": "stdout",
     "output_type": "stream",
     "text": [
      "2016-04-07    0.001204\n",
      "2016-04-06    0.003445\n",
      "2016-04-05    0.013514\n",
      "2016-04-04    0.036735\n",
      "2016-04-03    0.038108\n",
      "2016-04-02    0.035000\n",
      "2016-04-01    0.033459\n",
      "2016-03-31    0.031989\n",
      "2016-03-30    0.033820\n",
      "2016-03-29    0.033820\n",
      "2016-03-28    0.034711\n",
      "2016-03-27    0.031218\n",
      "2016-03-26    0.032326\n",
      "2016-03-25    0.032399\n",
      "2016-03-24    0.028930\n",
      "2016-03-23    0.032543\n",
      "2016-03-22    0.032808\n",
      "2016-03-21    0.037554\n",
      "2016-03-20    0.037626\n",
      "2016-03-19    0.033868\n",
      "2016-03-18    0.013249\n",
      "2016-03-17    0.031965\n",
      "2016-03-16    0.029532\n",
      "2016-03-15    0.033964\n",
      "2016-03-14    0.036855\n",
      "2016-03-13    0.014983\n",
      "2016-03-12    0.037048\n",
      "2016-03-11    0.032206\n",
      "2016-03-10    0.032182\n",
      "2016-03-09    0.033892\n",
      "2016-03-08    0.034109\n",
      "2016-03-07    0.036205\n",
      "2016-03-06    0.014092\n",
      "2016-03-05    0.024642\n",
      "Name: date_crawled, dtype: float64\n"
     ]
    }
   ],
   "source": [
    "#Lets do some exploration in the date_crawled column\n",
    "print(autos[\"date_crawled\"].str[:10].value_counts(normalize = True,dropna = False)\n",
    "      .sort_index(ascending = False))"
   ]
  },
  {
   "cell_type": "markdown",
   "metadata": {},
   "source": [
    "Based on the distribution above, most of the data was crawled in the month of March\n"
   ]
  },
  {
   "cell_type": "code",
   "execution_count": 33,
   "metadata": {
    "collapsed": false
   },
   "outputs": [
    {
     "name": "stdout",
     "output_type": "stream",
     "text": [
      "2016-04-07    0.001108\n",
      "2016-04-06    0.003469\n",
      "2016-04-05    0.012116\n",
      "2016-04-04    0.037289\n",
      "2016-04-03    0.038373\n",
      "2016-04-02    0.034591\n",
      "2016-04-01    0.033531\n",
      "2016-03-31    0.031989\n",
      "2016-03-30    0.033603\n",
      "2016-03-29    0.033964\n",
      "2016-03-28    0.034663\n",
      "2016-03-27    0.031146\n",
      "2016-03-26    0.032278\n",
      "2016-03-25    0.032567\n",
      "2016-03-24    0.028834\n",
      "2016-03-23    0.032375\n",
      "2016-03-22    0.032856\n",
      "2016-03-21    0.037698\n",
      "2016-03-20    0.037602\n",
      "2016-03-19    0.032880\n",
      "2016-03-18    0.013947\n",
      "2016-03-17    0.031700\n",
      "2016-03-16    0.029990\n",
      "2016-03-15    0.033748\n",
      "2016-03-14    0.035241\n",
      "2016-03-13    0.016500\n",
      "2016-03-12    0.036855\n",
      "2016-03-11    0.032543\n",
      "2016-03-10    0.032013\n",
      "2016-03-09    0.033699\n",
      "                ...   \n",
      "2016-02-27    0.000120\n",
      "2016-02-26    0.000024\n",
      "2016-02-25    0.000048\n",
      "2016-02-24    0.000048\n",
      "2016-02-23    0.000024\n",
      "2016-02-22    0.000024\n",
      "2016-02-21    0.000072\n",
      "2016-02-20    0.000048\n",
      "2016-02-19    0.000024\n",
      "2016-02-18    0.000048\n",
      "2016-02-16    0.000024\n",
      "2016-02-14    0.000024\n",
      "2016-02-12    0.000072\n",
      "2016-02-11    0.000024\n",
      "2016-02-09    0.000024\n",
      "2016-02-08    0.000024\n",
      "2016-02-05    0.000048\n",
      "2016-02-02    0.000048\n",
      "2016-02-01    0.000024\n",
      "2016-01-29    0.000024\n",
      "2016-01-27    0.000048\n",
      "2016-01-22    0.000024\n",
      "2016-01-16    0.000024\n",
      "2016-01-14    0.000024\n",
      "2016-01-13    0.000024\n",
      "2016-01-10    0.000048\n",
      "2016-01-07    0.000024\n",
      "2016-01-03    0.000024\n",
      "2015-12-30    0.000024\n",
      "2015-12-05    0.000024\n",
      "Name: ad_created, Length: 70, dtype: float64\n"
     ]
    }
   ],
   "source": [
    "#Lets do some exploration in the ad_created column\n",
    "print(autos[\"ad_created\"].str[:10].value_counts(normalize = True,dropna = False)\n",
    "      .sort_index(ascending = False))"
   ]
  },
  {
   "cell_type": "markdown",
   "metadata": {},
   "source": [
    "Based on the above, most of the ad were created in the month of March 2016.A very small proportion was created in 2015 which could be considered outlier."
   ]
  },
  {
   "cell_type": "code",
   "execution_count": 34,
   "metadata": {
    "collapsed": false
   },
   "outputs": [
    {
     "name": "stdout",
     "output_type": "stream",
     "text": [
      "2016-04-07    0.125379\n",
      "2016-04-06    0.212579\n",
      "2016-04-05    0.119719\n",
      "2016-04-04    0.024907\n",
      "2016-04-03    0.025509\n",
      "2016-04-02    0.025534\n",
      "2016-04-01    0.023992\n",
      "2016-03-31    0.024401\n",
      "2016-03-30    0.024883\n",
      "2016-03-29    0.022860\n",
      "2016-03-28    0.021824\n",
      "2016-03-27    0.016621\n",
      "2016-03-26    0.017392\n",
      "2016-03-25    0.020090\n",
      "2016-03-24    0.020523\n",
      "2016-03-23    0.019150\n",
      "2016-03-22    0.022113\n",
      "2016-03-21    0.021559\n",
      "2016-03-20    0.021824\n",
      "2016-03-19    0.016525\n",
      "2016-03-18    0.007347\n",
      "2016-03-17    0.029364\n",
      "2016-03-16    0.017103\n",
      "2016-03-15    0.016308\n",
      "2016-03-14    0.013224\n",
      "2016-03-13    0.009370\n",
      "2016-03-12    0.025076\n",
      "2016-03-11    0.013465\n",
      "2016-03-10    0.011081\n",
      "2016-03-09    0.010334\n",
      "2016-03-08    0.008335\n",
      "2016-03-07    0.005829\n",
      "2016-03-06    0.004697\n",
      "2016-03-05    0.001084\n",
      "Name: last_seen, dtype: float64\n"
     ]
    }
   ],
   "source": [
    "#Lets do some exploration in the last_seen column\n",
    "print(autos[\"last_seen\"].str[:10].value_counts(normalize = True,dropna = False)\n",
    "      .sort_index(ascending = False))"
   ]
  },
  {
   "cell_type": "markdown",
   "metadata": {},
   "source": [
    "The distribution of the data shows that the crawler was most present online in the month of March 2016.Although April 2016 shows only 4 months, the crawler was present 45% of the time."
   ]
  },
  {
   "cell_type": "code",
   "execution_count": 35,
   "metadata": {
    "collapsed": false
   },
   "outputs": [
    {
     "data": {
      "text/plain": [
       "count    41514.000000\n",
       "mean      2002.820759\n",
       "std         35.025253\n",
       "min       1910.000000\n",
       "25%       1999.000000\n",
       "50%       2003.000000\n",
       "75%       2007.000000\n",
       "max       9000.000000\n",
       "Name: registration_year, dtype: float64"
      ]
     },
     "execution_count": 35,
     "metadata": {},
     "output_type": "execute_result"
    }
   ],
   "source": [
    "autos[\"registration_year\"].describe()"
   ]
  },
  {
   "cell_type": "markdown",
   "metadata": {},
   "source": [
    "The max value for this column is 9000 and we are not yet in the year 9000. "
   ]
  },
  {
   "cell_type": "markdown",
   "metadata": {},
   "source": [
    "## Dealing with Incorrect Year in registration_year Column"
   ]
  },
  {
   "cell_type": "markdown",
   "metadata": {},
   "source": [
    "The min and max value will be 1910 because the first cars were invented in 1885 and max will be 2016 because we cannot make cars pass the year of registration.\n",
    "For this reason, we shall select rows of car between the year 1910 and 2016 from our data set."
   ]
  },
  {
   "cell_type": "code",
   "execution_count": 36,
   "metadata": {
    "collapsed": false
   },
   "outputs": [],
   "source": [
    "autos = autos.loc[autos[\"registration_year\"].between(1910,2016),:]"
   ]
  },
  {
   "cell_type": "code",
   "execution_count": 37,
   "metadata": {
    "collapsed": false
   },
   "outputs": [
    {
     "data": {
      "text/plain": [
       "1910    0.000050\n",
       "1934    0.000025\n",
       "1937    0.000025\n",
       "1943    0.000025\n",
       "1950    0.000025\n",
       "1953    0.000025\n",
       "1954    0.000050\n",
       "1955    0.000025\n",
       "1956    0.000050\n",
       "1957    0.000025\n",
       "1958    0.000050\n",
       "1959    0.000075\n",
       "1960    0.000402\n",
       "1961    0.000075\n",
       "1962    0.000025\n",
       "1963    0.000126\n",
       "1964    0.000075\n",
       "1965    0.000226\n",
       "1966    0.000352\n",
       "1967    0.000327\n",
       "1968    0.000327\n",
       "1969    0.000226\n",
       "1970    0.000427\n",
       "1971    0.000176\n",
       "1972    0.000528\n",
       "1973    0.000477\n",
       "1974    0.000327\n",
       "1975    0.000226\n",
       "1976    0.000452\n",
       "1977    0.000377\n",
       "          ...   \n",
       "1987    0.001659\n",
       "1988    0.002991\n",
       "1989    0.003920\n",
       "1990    0.008218\n",
       "1991    0.008193\n",
       "1992    0.008896\n",
       "1993    0.010455\n",
       "1994    0.015355\n",
       "1995    0.030057\n",
       "1996    0.034279\n",
       "1997    0.048931\n",
       "1998    0.058305\n",
       "1999    0.071850\n",
       "2000    0.078460\n",
       "2001    0.064487\n",
       "2002    0.060265\n",
       "2003    0.064738\n",
       "2004    0.064462\n",
       "2005    0.068985\n",
       "2006    0.061094\n",
       "2007    0.050564\n",
       "2008    0.045840\n",
       "2009    0.036943\n",
       "2010    0.024578\n",
       "2011    0.019427\n",
       "2012    0.009751\n",
       "2013    0.002513\n",
       "2014    0.000377\n",
       "2015    0.000126\n",
       "2016    0.029002\n",
       "Name: registration_year, Length: 69, dtype: float64"
      ]
     },
     "execution_count": 37,
     "metadata": {},
     "output_type": "execute_result"
    }
   ],
   "source": [
    "autos[\"registration_year\"].value_counts(normalize = True).sort_index()"
   ]
  },
  {
   "cell_type": "markdown",
   "metadata": {},
   "source": [
    "From the above distribution,most the cars were registered from 1993 to 2011"
   ]
  },
  {
   "cell_type": "markdown",
   "metadata": {},
   "source": [
    "## Exploring Price by Brand"
   ]
  },
  {
   "cell_type": "code",
   "execution_count": 38,
   "metadata": {
    "collapsed": false
   },
   "outputs": [
    {
     "data": {
      "text/plain": [
       "volkswagen        0.217486\n",
       "bmw               0.117413\n",
       "opel              0.113166\n",
       "mercedes_benz     0.099520\n",
       "audi              0.088613\n",
       "ford              0.069036\n",
       "renault           0.049383\n",
       "peugeot           0.030107\n",
       "fiat              0.023925\n",
       "seat              0.017491\n",
       "mazda             0.015179\n",
       "nissan            0.014199\n",
       "skoda             0.013722\n",
       "citroen           0.013219\n",
       "toyota            0.011284\n",
       "smart             0.010555\n",
       "volvo             0.010304\n",
       "mitsubishi        0.008318\n",
       "hyundai           0.007816\n",
       "honda             0.007615\n",
       "sonstige_autos    0.007162\n",
       "alfa_romeo        0.007087\n",
       "kia               0.006157\n",
       "mini              0.005353\n",
       "suzuki            0.005051\n",
       "porsche           0.004549\n",
       "chevrolet         0.003971\n",
       "chrysler          0.003971\n",
       "daihatsu          0.002438\n",
       "jeep              0.002237\n",
       "subaru            0.002111\n",
       "saab              0.001860\n",
       "land_rover        0.001835\n",
       "jaguar            0.001533\n",
       "rover             0.001483\n",
       "dacia             0.001483\n",
       "daewoo            0.001458\n",
       "lancia            0.001106\n",
       "trabant           0.000452\n",
       "lada              0.000352\n",
       "Name: brand, dtype: float64"
      ]
     },
     "execution_count": 38,
     "metadata": {},
     "output_type": "execute_result"
    }
   ],
   "source": [
    "autos[\"brand\"].value_counts(normalize = True)"
   ]
  },
  {
   "cell_type": "markdown",
   "metadata": {},
   "source": [
    "I will explore variation across various car brands and will be using the top 20 cars based on percentage value."
   ]
  },
  {
   "cell_type": "code",
   "execution_count": 39,
   "metadata": {
    "collapsed": false
   },
   "outputs": [
    {
     "name": "stdout",
     "output_type": "stream",
     "text": [
      "Index(['volkswagen', 'bmw', 'opel', 'mercedes_benz', 'audi', 'ford', 'renault',\n",
      "       'peugeot', 'fiat', 'seat', 'mazda', 'nissan', 'skoda', 'citroen',\n",
      "       'toyota', 'smart', 'volvo', 'mitsubishi', 'hyundai', 'honda'],\n",
      "      dtype='object')\n"
     ]
    }
   ],
   "source": [
    "top_autos = autos[\"brand\"].value_counts(normalize = True).head(20).index\n",
    "print(top_autos)"
   ]
  },
  {
   "cell_type": "code",
   "execution_count": 40,
   "metadata": {
    "collapsed": false
   },
   "outputs": [
    {
     "name": "stdout",
     "output_type": "stream",
     "text": [
      "bmw 6931\n",
      "audi 6753\n",
      "mercedes_benz 6691\n",
      "skoda 4808\n",
      "volvo 4233\n",
      "volkswagen 4217\n",
      "toyota 3940\n",
      "hyundai 3620\n",
      "nissan 3133\n",
      "honda 3008\n",
      "ford 2950\n",
      "citroen 2932\n",
      "seat 2918\n",
      "mazda 2797\n",
      "mitsubishi 2503\n",
      "smart 2473\n",
      "peugeot 2358\n",
      "opel 2217\n",
      "fiat 1891\n",
      "renault 1779\n"
     ]
    }
   ],
   "source": [
    "brand_dict = {}\n",
    "\n",
    "for i in top_autos:\n",
    "    rows = autos[autos[\"brand\"] == i]\n",
    "    mean_price = rows[\"price\"].mean()\n",
    "    brand_dict[i] = int(mean_price) \n",
    "\n",
    "sort_list = sorted(brand_dict.items(),key=lambda x: x[1],reverse = True)  \n",
    "\n",
    "for i in sort_list:\n",
    "    print(i[0],i[1])"
   ]
  },
  {
   "cell_type": "markdown",
   "metadata": {},
   "source": [
    "Based on the average prices computed, we can see that BMW, Audi and Mercedes top the list in the range of 6k , the closest group that follows is Volvo,Volkswagen and Skoda in the range of 4k."
   ]
  },
  {
   "cell_type": "code",
   "execution_count": 41,
   "metadata": {
    "collapsed": false,
    "scrolled": true
   },
   "outputs": [
    {
     "name": "stdout",
     "output_type": "stream",
     "text": [
      "[('bmw', 6931), ('audi', 6753), ('mercedes_benz', 6691), ('skoda', 4808), ('volvo', 4233), ('volkswagen', 4217)]\n"
     ]
    }
   ],
   "source": [
    "top_six = sort_list[:6]\n",
    "print(top_six)"
   ]
  },
  {
   "cell_type": "markdown",
   "metadata": {},
   "source": [
    "## Exploring Mean Price and Mean Mileage by Brand"
   ]
  },
  {
   "cell_type": "code",
   "execution_count": 42,
   "metadata": {
    "collapsed": false
   },
   "outputs": [
    {
     "name": "stdout",
     "output_type": "stream",
     "text": [
      "{'bmw': 6931, 'skoda': 4808, 'mercedes_benz': 6691, 'volkswagen': 4217, 'volvo': 4233, 'audi': 6753}\n",
      "        \n",
      "{'bmw': 143590, 'skoda': 136730, 'mercedes_benz': 143613, 'volkswagen': 143286, 'volvo': 145682, 'audi': 144144}\n"
     ]
    }
   ],
   "source": [
    "#Lets focus on the top brands and calculate their average price and mileage\n",
    "top_brands = [\"bmw\",\"audi\",\"mercedes_benz\",\"skoda\",\"volvo\",\"volkswagen\"]\n",
    "\n",
    "price_dict = {}\n",
    "mileage_dict = {}\n",
    "\n",
    "for i in top_brands:\n",
    "    rows = autos[autos[\"brand\"] == i]\n",
    "    mean_price = rows[\"price\"].mean()\n",
    "    price_dict[i] = int(mean_price)\n",
    "    \n",
    "print(price_dict)\n",
    "print(\"        \")\n",
    "\n",
    "for i in top_brands:\n",
    "    rows = autos[autos[\"brand\"] == i]\n",
    "    mean_mileage = rows[\"odometer_km\"].mean()\n",
    "    mileage_dict[i] = int(mean_mileage)\n",
    "    \n",
    "print(mileage_dict)    "
   ]
  },
  {
   "cell_type": "code",
   "execution_count": 43,
   "metadata": {
    "collapsed": false
   },
   "outputs": [
    {
     "name": "stdout",
     "output_type": "stream",
     "text": [
      "               mean_mileage  mean_price\n",
      "audi                 144144        6753\n",
      "bmw                  143590        6931\n",
      "mercedes_benz        143613        6691\n",
      "skoda                136730        4808\n",
      "volkswagen           143286        4217\n",
      "volvo                145682        4233\n"
     ]
    }
   ],
   "source": [
    "#Create series objects\n",
    "price_series = pd.Series(price_dict)\n",
    "\n",
    "mileage_series = pd.Series(mileage_dict)\n",
    "\n",
    "#Create dataframe\n",
    "df = pd.DataFrame({\"mean_price\" : price_series,\"mean_mileage\" : mileage_series})\n",
    "print(df)"
   ]
  },
  {
   "cell_type": "markdown",
   "metadata": {},
   "source": [
    "Based on the information above,audi cars sell at a relatively high price with a high mean_mileage value.Mercedes cars as the most expensive with mileage over 140000km.We can also observe that volkswagen cars have a realtively lower mileage and lower mean price."
   ]
  }
 ],
 "metadata": {
  "kernelspec": {
   "display_name": "Python 3",
   "language": "python",
   "name": "python3"
  },
  "language_info": {
   "codemirror_mode": {
    "name": "ipython",
    "version": 3
   },
   "file_extension": ".py",
   "mimetype": "text/x-python",
   "name": "python",
   "nbconvert_exporter": "python",
   "pygments_lexer": "ipython3",
   "version": "3.4.3"
  }
 },
 "nbformat": 4,
 "nbformat_minor": 2
}
